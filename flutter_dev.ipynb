{
 "cells": [
  {
   "cell_type": "markdown",
   "metadata": {},
   "source": [
    "# Flutter Software Company\n",
    "\n",
    "The goal of this is to use AI tools to build flutter apps super fast and super cheap!\n",
    "Requirements:\n",
    "- Use predefined patterns and code to have a common structure\n",
    "- Use feature based structure\n",
    "- Use Component based UI"
   ]
  },
  {
   "cell_type": "code",
   "execution_count": null,
   "metadata": {},
   "outputs": [],
   "source": [
    "from metagpt.logs import define_log_level\n",
    "\n",
    "from metagpt.roles import (\n",
    "    FlutterArchitect,\n",
    "    FlutterEngineer,\n",
    "    FlutterProjectManager,\n",
    "    FlutterFrontendArchitect,\n",
    "    ProductManager,\n",
    ")\n",
    "\n",
    "from metagpt.software_company import SoftwareCompany\n",
    "\n",
    "define_log_level(print_level=\"DEBUG\", logfile_level=\"DEBUG\")"
   ]
  },
  {
   "cell_type": "markdown",
   "metadata": {},
   "source": [
    "1. ProductManager\n",
    "    - WritePRD\n",
    "2. Flutter Architect\n",
    "    - WriteFlutterDesign \n",
    "3. Flutter Project Manager\n",
    "    - WriteTasks"
   ]
  },
  {
   "cell_type": "code",
   "execution_count": null,
   "metadata": {},
   "outputs": [],
   "source": [
    "# project_name = \"pflanzenliebe\"\n",
    "\n",
    "# idea = f\"\"\"Write a professional fully functional plant care flutter app. \n",
    "# Multiple Users must have access to the care data of the same plant. Every person must be able to create an account and to connect to other members of their household.\n",
    "# Care tasks have to be synced. Watering, fertilization and other care tasks should be tracked and reminded of. \n",
    "# Name the project '{project_name}'. It should run on Android and iOS.\"\"\"\n",
    "\n",
    "project_name = \"tiktaktoe\"\n",
    "\n",
    "\n",
    "idea = f\"\"\"Write a professional fully functional tiktaktoe multiplayer flutter app. \n",
    "Users can create Accounts and request matches. If a request is accepted, two Users can play tiktaktoe online.\n",
    "Name the project '{project_name}'. It should run on Android and iOS.\"\"\"\n",
    "\n",
    "\"\"\"Run a startup. Be a boss.\"\"\"\n",
    "company = SoftwareCompany()\n",
    "\n",
    "create_plan = True\n",
    "write_code = True\n",
    "\n"
   ]
  },
  {
   "cell_type": "code",
   "execution_count": null,
   "metadata": {},
   "outputs": [],
   "source": [
    "\n",
    "if create_plan:\n",
    "    n_round = 4\n",
    "    investment = 3 ## Estimation of cost in € about spending for API\n",
    "\n",
    "    company = SoftwareCompany()\n",
    "\n",
    "    company.hire(\n",
    "        [\n",
    "            ProductManager(constraints=f\"Project name is '{project_name}'\"),\n",
    "            FlutterArchitect(constraints=\"Use Firebase Firestore as the Backend service! Try to reduce database costs by design.\"),\n",
    "            FlutterFrontendArchitect(constraints=\"Use Riverpod as the state management library\"),\n",
    "            FlutterProjectManager(),\n",
    "        ]\n",
    "    )\n",
    "\n",
    "    company.invest(investment)\n",
    "    company.start_project(idea,project_name)\n",
    "    await company.run(n_round=n_round)\n"
   ]
  },
  {
   "cell_type": "code",
   "execution_count": null,
   "metadata": {},
   "outputs": [],
   "source": [
    "if write_code:\n",
    "    investment = 3 ## Estimation of cost in € about spending for API\n",
    "    n_round = 3\n",
    "\n",
    "    company = SoftwareCompany()\n",
    "\n",
    "    company.hire(\n",
    "        [\n",
    "            FlutterEngineer(use_code_review=True)\n",
    "        ]\n",
    "    )       \n",
    "    company.invest(investment)\n",
    "    company.start_project(idea,project_name)\n",
    "    await company.run(n_round=n_round)"
   ]
  }
 ],
 "metadata": {
  "kernelspec": {
   "display_name": "Python 3",
   "language": "python",
   "name": "python3"
  },
  "language_info": {
   "codemirror_mode": {
    "name": "ipython",
    "version": 3
   },
   "file_extension": ".py",
   "mimetype": "text/x-python",
   "name": "python",
   "nbconvert_exporter": "python",
   "pygments_lexer": "ipython3",
   "version": "3.10.12"
  }
 },
 "nbformat": 4,
 "nbformat_minor": 2
}
