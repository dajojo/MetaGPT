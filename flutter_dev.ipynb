{
 "cells": [
  {
   "cell_type": "markdown",
   "metadata": {},
   "source": [
    "# Flutter Software Company\n",
    "\n",
    "The goal of this is to use AI tools to build flutter apps super fast and super cheap!\n",
    "Requirements:\n",
    "- Use predefined patterns and code to have a common structure\n",
    "- Use feature based structure\n",
    "- Use Component based UI"
   ]
  },
  {
   "cell_type": "code",
   "execution_count": null,
   "metadata": {},
   "outputs": [],
   "source": [
    "from metagpt.logs import define_log_level\n",
    "\n",
    "from metagpt.roles import (\n",
    "    FlutterArchitect,\n",
    "    FlutterEngineer,\n",
    "    FlutterProjectManager,\n",
    "    FlutterFrontendArchitect,\n",
    "    ProductManager,\n",
    ")\n",
    "\n",
    "from metagpt.software_company import SoftwareCompany\n",
    "\n",
    "define_log_level(print_level=\"INFO\", logfile_level=\"DEBUG\")"
   ]
  },
  {
   "cell_type": "markdown",
   "metadata": {},
   "source": [
    "1. ProductManager\n",
    "    - WritePRD\n",
    "2. Flutter Architect\n",
    "    - WriteFlutterDesign \n",
    "3. Flutter Project Manager\n",
    "    - WriteTasks"
   ]
  },
  {
   "cell_type": "code",
   "execution_count": null,
   "metadata": {},
   "outputs": [],
   "source": [
    "\n",
    "\n",
    "n_round = 5\n",
    "investment = 3 ## Estimation of cost in € about spending for API\n",
    "\n",
    "\n",
    "idea = \"\"\"Write a professional fully functional plant care flutter app. \n",
    "Use Firebase as the backend to sync data between users caring for the same plant and use Riverpod as state management.\n",
    "Name the project 'Pflanzenliebe'. It should run on Android and iOS.\"\"\"\n",
    "\n",
    "\"\"\"Run a startup. Be a boss.\"\"\"\n",
    "company = SoftwareCompany()\n",
    "company.hire(\n",
    "    [\n",
    "        ProductManager(),\n",
    "        FlutterArchitect(),\n",
    "        FlutterFrontendArchitect(),\n",
    "        FlutterProjectManager(),\n",
    "        FlutterEngineer()\n",
    "        \n",
    "    ]\n",
    ")\n",
    "\n",
    "# if implement or code_review\n",
    "#if implement or code_review:\n",
    "    # developing features: implement the idea\n",
    "#    company.hire([Engineer(n_borg=5, use_code_review=code_review)])\n",
    "\n",
    "#if run_tests:\n",
    "    # developing features: run tests on the spot and identify bugs\n",
    "    # (bug fixing capability comes soon!)\n",
    "#    company.hire([QaEngineer()])\n",
    "\n",
    "company.invest(investment)\n",
    "company.start_project(idea)\n",
    "await company.run(n_round=n_round)\n"
   ]
  }
 ],
 "metadata": {
  "kernelspec": {
   "display_name": "Python 3",
   "language": "python",
   "name": "python3"
  },
  "language_info": {
   "codemirror_mode": {
    "name": "ipython",
    "version": 3
   },
   "file_extension": ".py",
   "mimetype": "text/x-python",
   "name": "python",
   "nbconvert_exporter": "python",
   "pygments_lexer": "ipython3",
   "version": "3.11.4"
  }
 },
 "nbformat": 4,
 "nbformat_minor": 2
}
