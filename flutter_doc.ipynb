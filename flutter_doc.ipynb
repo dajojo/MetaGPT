{
 "cells": [
  {
   "cell_type": "code",
   "execution_count": null,
   "metadata": {},
   "outputs": [],
   "source": [
    "from metagpt.logs import define_log_level\n",
    "\n",
    "from metagpt.roles import (\n",
    "    FlutterArchitect,\n",
    "    FlutterEngineer,\n",
    "    FlutterProjectManager,\n",
    "    FlutterFrontendArchitect,\n",
    "    ProductManager,\n",
    "    FlutterCommentator\n",
    ")\n",
    "\n",
    "from metagpt.software_company import SoftwareCompany\n",
    "\n",
    "define_log_level(print_level=\"DEBUG\", logfile_level=\"DEBUG\")\n",
    "\n",
    "project_name = \"spiela\"\n",
    "\n",
    "idea = f\"\"\"Write a professional documentation for an existing flutter app. \n",
    "The project is named '{project_name}'.\"\"\""
   ]
  },
  {
   "cell_type": "code",
   "execution_count": null,
   "metadata": {},
   "outputs": [],
   "source": [
    "from metagpt.roles.flutter_documentator import FlutterDocumentator\n",
    "\n",
    "\n",
    "n_round = 4\n",
    "investment = 3 ## Estimation of cost in € about spending for API\n",
    "\n",
    "# company = SoftwareCompany()\n",
    "# company.hire(\n",
    "#     [\n",
    "#         FlutterProjectManager(constraints=\"The Goal is to document the provided code. Find a good order to analyze the code.\", is_entry_point= True,),\n",
    "#     ]\n",
    "# )\n",
    "# company.invest(investment)\n",
    "# company.start_project(idea,project_name)\n",
    "# await company.run(n_round=n_round)\n",
    "\n",
    "company = SoftwareCompany()\n",
    "company.hire(\n",
    "    [\n",
    "        FlutterDocumentator()\n",
    "    ]\n",
    ")\n",
    "company.invest(investment)\n",
    "company.start_project(idea,project_name)\n",
    "await company.run(n_round=n_round)"
   ]
  }
 ],
 "metadata": {
  "kernelspec": {
   "display_name": "fluttergpt",
   "language": "python",
   "name": "python3"
  },
  "language_info": {
   "codemirror_mode": {
    "name": "ipython",
    "version": 3
   },
   "file_extension": ".py",
   "mimetype": "text/x-python",
   "name": "python",
   "nbconvert_exporter": "python",
   "pygments_lexer": "ipython3",
   "version": "3.10.12"
  }
 },
 "nbformat": 4,
 "nbformat_minor": 2
}
